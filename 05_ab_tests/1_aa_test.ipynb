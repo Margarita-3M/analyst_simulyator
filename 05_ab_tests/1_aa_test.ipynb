{
 "cells": [
  {
   "cell_type": "markdown",
   "id": "8dbc1f51-bbcd-4e0e-b633-b2cb7d951152",
   "metadata": {
    "tags": []
   },
   "source": [
    "# AA Test\n",
    "\n",
    "*Перед тем, как начать проводить AB-тесты, нужно обязательно пройти стадию АА-тестирования, чтобы убедиться в надежности и корректности нашей системы сплитования. Если система работает правильно, то все ключевые метрики не\n",
    "должны отличаться между группами.*\n",
    "\n",
    "**Задача** - провести AA-тест по данным с '2021-12-08' по '2021-12-14', пользователи из 2й и 3й экспериментальных групп.\n",
    "1. Построить гистограмму распределения получившихся 10000 p-values.\n",
    "2. Посчитать, какой процент p values оказался меньше либо равен 0.05\n",
    "3. Написать вывод по проведенному АА-тесту, корректно ли работает наша система сплитования.\n",
    "\n",
    "**Ключевая метрика** - CTR."
   ]
  },
  {
   "cell_type": "code",
   "execution_count": 1,
   "id": "26b98f1e-2252-482f-b028-01a0e6dd0ec8",
   "metadata": {
    "tags": []
   },
   "outputs": [],
   "source": [
    "# импортируем библиотеки\n",
    "import pandas as pd\n",
    "import pandahouse\n",
    "import matplotlib.pyplot as plt\n",
    "import seaborn as sns\n",
    "import numpy as np\n",
    "from scipy import stats\n",
    "from random import randint\n",
    "from db.read_db import get_df\n",
    "sns.set() # Setting seaborn as default style even if use only matplotlib\n",
    "sns.set_style(\"darkgrid\", {\"axes.facecolor\": \"lavender\", 'axes.grid': False})\n",
    "\n",
    "# достаем данные из БД для дальнейшего анализа\n",
    "## открываем файл с запросом\n",
    "with open('./db/aa_test.sql') as f:\n",
    "    query = f.read()\n",
    "## читаем данные из БД при помощи функции get_df()\n",
    "df = get_df(query)\n",
    "\n",
    "# сохраняем данные в csv (для личного репозитория с портфолио)\n",
    "df.to_csv('~/ab_tests/data/aa_test_data.csv')"
   ]
  },
  {
   "cell_type": "code",
   "execution_count": 2,
   "id": "4a287276-0f55-4820-933f-1da058944df8",
   "metadata": {},
   "outputs": [
    {
     "data": {
      "text/html": [
       "<div>\n",
       "<style scoped>\n",
       "    .dataframe tbody tr th:only-of-type {\n",
       "        vertical-align: middle;\n",
       "    }\n",
       "\n",
       "    .dataframe tbody tr th {\n",
       "        vertical-align: top;\n",
       "    }\n",
       "\n",
       "    .dataframe thead th {\n",
       "        text-align: right;\n",
       "    }\n",
       "</style>\n",
       "<table border=\"1\" class=\"dataframe\">\n",
       "  <thead>\n",
       "    <tr style=\"text-align: right;\">\n",
       "      <th></th>\n",
       "      <th>exp_group</th>\n",
       "      <th>user_id</th>\n",
       "      <th>likes</th>\n",
       "      <th>views</th>\n",
       "      <th>ctr</th>\n",
       "    </tr>\n",
       "  </thead>\n",
       "  <tbody>\n",
       "    <tr>\n",
       "      <th>0</th>\n",
       "      <td>3</td>\n",
       "      <td>115383</td>\n",
       "      <td>11</td>\n",
       "      <td>36</td>\n",
       "      <td>0.3056</td>\n",
       "    </tr>\n",
       "    <tr>\n",
       "      <th>1</th>\n",
       "      <td>3</td>\n",
       "      <td>123580</td>\n",
       "      <td>15</td>\n",
       "      <td>92</td>\n",
       "      <td>0.1630</td>\n",
       "    </tr>\n",
       "    <tr>\n",
       "      <th>2</th>\n",
       "      <td>2</td>\n",
       "      <td>131473</td>\n",
       "      <td>26</td>\n",
       "      <td>148</td>\n",
       "      <td>0.1757</td>\n",
       "    </tr>\n",
       "    <tr>\n",
       "      <th>3</th>\n",
       "      <td>2</td>\n",
       "      <td>23985</td>\n",
       "      <td>12</td>\n",
       "      <td>66</td>\n",
       "      <td>0.1818</td>\n",
       "    </tr>\n",
       "    <tr>\n",
       "      <th>4</th>\n",
       "      <td>2</td>\n",
       "      <td>24523</td>\n",
       "      <td>17</td>\n",
       "      <td>120</td>\n",
       "      <td>0.1417</td>\n",
       "    </tr>\n",
       "  </tbody>\n",
       "</table>\n",
       "</div>"
      ],
      "text/plain": [
       "   exp_group  user_id  likes  views     ctr\n",
       "0          3   115383     11     36  0.3056\n",
       "1          3   123580     15     92  0.1630\n",
       "2          2   131473     26    148  0.1757\n",
       "3          2    23985     12     66  0.1818\n",
       "4          2    24523     17    120  0.1417"
      ]
     },
     "execution_count": 2,
     "metadata": {},
     "output_type": "execute_result"
    }
   ],
   "source": [
    "df.head()"
   ]
  },
  {
   "cell_type": "markdown",
   "id": "9a694040-a87f-4db1-91ee-0715ec296293",
   "metadata": {},
   "source": [
    "Визуализируем распределение CTR по 2м экспериментальным группам:"
   ]
  },
  {
   "cell_type": "code",
   "execution_count": 3,
   "id": "5babc318-78f2-422b-b5b9-eb23b6cfb499",
   "metadata": {
    "tags": []
   },
   "outputs": [
    {
     "data": {
      "image/png": "[encoded data removed]",
      "text/plain": [
       "<Figure size 432x288 with 1 Axes>"
      ]
     },
     "metadata": {},
     "output_type": "display_data"
    }
   ],
   "source": [
    "sns.histplot(data=df, x='ctr', hue='exp_group');"
   ]
  },
  {
   "cell_type": "markdown",
   "id": "2efeef1a-6a27-4b5c-bb9c-3ec89077e915",
   "metadata": {},
   "source": [
    "Распределения CTR в 2х контрольных группах визуально похожи, но при этом есть выбросы. </br>\n",
    "Рассчитаем сглаженный CTR для контрольных групп."
   ]
  },
  {
   "cell_type": "code",
   "execution_count": 4,
   "id": "57710b26-c61f-47c2-b54a-4c06b27a9506",
   "metadata": {},
   "outputs": [
    {
     "data": {
      "image/png": "[encoded data removed]",
      "text/plain": [
       "<Figure size 432x288 with 1 Axes>"
      ]
     },
     "metadata": {},
     "output_type": "display_data"
    }
   ],
   "source": [
    "def get_smoothed_ctr(user_likes, user_views, global_ctr, alpha):\n",
    "    '''\n",
    "    Функция рассчитывает сглаженный CTR.\n",
    "    ---\n",
    "    Параметры:\n",
    "        user_likes -- количество лайков\n",
    "        user_views -- количество просмотров\n",
    "        global_ctr -- средний (глобальный) CTR до сглаживания\n",
    "        alpha      -- значение штрафа\n",
    "    \n",
    "    '''\n",
    "    smoothed_ctr = (user_likes + alpha * global_ctr) / (user_views + alpha) * 100\n",
    "    return smoothed_ctr\n",
    "\n",
    "# сглаживаем CTR в экспериментальных группах\n",
    "for exp_group in [2,3]:\n",
    "    global_ctr = \\\n",
    "        df[df['exp_group']==exp_group]['likes'].sum() / \\\n",
    "        df[df['exp_group']==exp_group]['views'].sum() \n",
    "    \n",
    "    df.loc[df['exp_group']==exp_group, 'smoothed_ctr'] = df.apply(\n",
    "    lambda x: get_smoothed_ctr(x['likes'], x['views'], global_ctr, 5), axis=1)\n",
    "\n",
    "# визуализируем сглаженный CTR\n",
    "sns.histplot(data=df, x='smoothed_ctr', hue='exp_group');"
   ]
  },
  {
   "cell_type": "markdown",
   "id": "41e096ff-2bed-4226-b4ed-8b1b1357fd62",
   "metadata": {},
   "source": [
    "Распределения сглаженных CTR в 2х контрольных группах визуально похожи.\n",
    "Проверим нулевую гипотезу о равенстве средних сглаженных CTR экспериментальных групп. Проведем сравнение средних сглаженных CTR в 2х контрольных группах t-testом (alpha=0.05)."
   ]
  },
  {
   "cell_type": "code",
   "execution_count": 5,
   "id": "542ebda6-506b-49d1-878c-4801b6b13139",
   "metadata": {},
   "outputs": [
    {
     "data": {
      "text/plain": [
       "Ttest_indResult(statistic=-0.6603141299293045, pvalue=0.5090611865557584)"
      ]
     },
     "execution_count": 5,
     "metadata": {},
     "output_type": "execute_result"
    }
   ],
   "source": [
    "exp_gr_1 = df.loc[df['exp_group']==2, 'smoothed_ctr'].values\n",
    "exp_gr_2 = df.loc[df['exp_group']==3, 'smoothed_ctr'].values\n",
    "\n",
    "stats.ttest_ind(exp_gr_1, exp_gr_2, equal_var=False)"
   ]
  },
  {
   "cell_type": "markdown",
   "id": "8222eefc-af3e-4477-a265-2bba04f58f4f",
   "metadata": {},
   "source": [
    "Нулевую гипотезу отклонить не можем, p-value выше установленного alpha.\n",
    "\n",
    "Проведем симуляцию из 10 000 АА-тестов, для каждого из которых:\n",
    "- сформируем подвыборки с повторением из 500 пользователей из каждой эспериментальной группы;\n",
    "- проведем сравнение этих подвыборок t-testом (по условию задания) и Mann-Whitney U test (дополнительно) при alpha=0.05. </br>\n",
    "- нулевая гипотеза - равенство средних CTR экспериментальных групп. "
   ]
  },
  {
   "cell_type": "code",
   "execution_count": 6,
   "id": "b5e812e5-5f9e-49d7-9825-d310ce61f163",
   "metadata": {
    "tags": []
   },
   "outputs": [],
   "source": [
    "def run_t_test(df=df, metric='smoothed_ctr', exp_gr_1=2, exp_gr_2=3, num_experiments=10000, n_samples=500):\n",
    "    '''\n",
    "    Функция формирует подвыборки с повторением из указанного количества наблюдений\n",
    "    из каждой эспериментальной группы, проводит сравнение этих подвыборок t-testом и возвращает p-values.\n",
    "    ---\n",
    "    Параметры:\n",
    "        df               -- датафрейм\n",
    "        metric           -- ключевая метрика, по которой ведем расчет\n",
    "        exp_gr_1         -- номер (int) экспериментальной группы 1\n",
    "        exp_gr_2         -- номер (int) экспериментальной группы 2\n",
    "        num_experiments  -- количество экспериментов в симуляции\n",
    "        n_samples        -- размер подвыборки    \n",
    "    \n",
    "    '''\n",
    "    p_values = []\n",
    "    exp_gr_1 = df.loc[df['exp_group']==exp_gr_1, metric]\n",
    "    exp_gr_2 = df.loc[df['exp_group']==exp_gr_2, metric]\n",
    "    \n",
    "    for i in range(num_experiments):       \n",
    "        sample_exp_gr_1 = exp_gr_1.sample(n=n_samples, replace=True).values        \n",
    "        sample_exp_gr_2 = exp_gr_2.sample(n=n_samples, replace=True).values        \n",
    "        p_value = stats.ttest_ind(sample_exp_gr_1, sample_exp_gr_2, equal_var=False).pvalue # Welch’s t-test     \n",
    "        p_values.append(p_value)\n",
    "    \n",
    "    p_values_series = pd.Series(p_values)\n",
    "    return p_values_series\n",
    "\n",
    "def run_mu_test(df=df, metric='smoothed_ctr', exp_gr_1=2, exp_gr_2=3, num_experiments=10000, n_samples=500):\n",
    "    '''\n",
    "    Функция формирует подвыборки с повторением из указанного количества наблюдений\n",
    "    из каждой эспериментальной группы, проводит сравнение этих подвыборок Mann-Whitney U test и возвращает p-values.\n",
    "    ---\n",
    "    Параметры:\n",
    "        df               -- датафрейм\n",
    "        metric           -- ключевая метрика, по которой ведем расчет\n",
    "        exp_gr_1         -- номер (int) экспериментальной группы 1\n",
    "        exp_gr_2         -- номер (int) экспериментальной группы 2\n",
    "        num_experiments  -- количество экспериментов в симуляции\n",
    "        n_samples        -- размер подвыборки    \n",
    "    \n",
    "    '''\n",
    "    p_values = []\n",
    "    exp_gr_1 = df.loc[df['exp_group']==exp_gr_1, metric]\n",
    "    exp_gr_2 = df.loc[df['exp_group']==exp_gr_2, metric]\n",
    "    \n",
    "    for i in range(num_experiments):       \n",
    "        sample_exp_gr_1 = exp_gr_1.sample(n=n_samples, replace=True).values        \n",
    "        sample_exp_gr_2 = exp_gr_2.sample(n=n_samples, replace=True).values        \n",
    "        p_value = stats.mannwhitneyu(sample_exp_gr_1, sample_exp_gr_2).pvalue     \n",
    "        p_values.append(p_value)\n",
    "    \n",
    "    p_values_series = pd.Series(p_values)\n",
    "    return p_values_series"
   ]
  },
  {
   "cell_type": "markdown",
   "id": "c0580d57-87b1-4ff3-a21f-f25a4495e816",
   "metadata": {},
   "source": [
    "Построим гистограмму распределения получившихся 10000 p-values и посчитаем, какой процент p values оказался меньше либо равен 0.05"
   ]
  },
  {
   "cell_type": "code",
   "execution_count": 7,
   "id": "740f07ef-fc1b-45fa-b8d7-5aec094fee18",
   "metadata": {
    "tags": []
   },
   "outputs": [
    {
     "name": "stdout",
     "output_type": "stream",
     "text": [
      "t-test\n",
      "В 5.45% случаях p-values оказался меньше либо равен 0.05\n"
     ]
    },
    {
     "data": {
      "image/png": "[encoded data removed]",
      "text/plain": [
       "<Figure size 432x288 with 1 Axes>"
      ]
     },
     "metadata": {},
     "output_type": "display_data"
    }
   ],
   "source": [
    "print('t-test')\n",
    "results_t = run_t_test(df=df, metric='smoothed_ctr', exp_gr_1=2, exp_gr_2=3, num_experiments=10000, n_samples=500)\n",
    "sns.histplot(results_t, bins=8);\n",
    "share_t = results_t[results_t<0.05].shape[0] / results_t.shape[0] * 100\n",
    "print(f'В {share_t:.2f}% случаях p-values оказался меньше либо равен 0.05')"
   ]
  },
  {
   "cell_type": "code",
   "execution_count": 8,
   "id": "1026dc41-735c-461f-80d6-8f43f3c11107",
   "metadata": {},
   "outputs": [
    {
     "name": "stdout",
     "output_type": "stream",
     "text": [
      "Mann-Whitney U test\n",
      "В 4.98% случаях p-values оказался меньше либо равен 0.05\n"
     ]
    },
    {
     "data": {
      "image/png": "[encoded data removed]",
      "text/plain": [
       "<Figure size 432x288 with 1 Axes>"
      ]
     },
     "metadata": {},
     "output_type": "display_data"
    }
   ],
   "source": [
    "print('Mann-Whitney U test')\n",
    "results_mu = run_mu_test(df=df, metric='smoothed_ctr', exp_gr_1=2, exp_gr_2=3, num_experiments=10000, n_samples=500)\n",
    "sns.histplot(results_mu, bins=8);\n",
    "share_mu = results_mu[results_mu<0.05].shape[0] / results_mu.shape[0] * 100\n",
    "print(f'В {share_mu:.2f}% случаях p-values оказался меньше либо равен 0.05')"
   ]
  },
  {
   "cell_type": "markdown",
   "id": "75d150fa-2e4a-4a20-8465-5876e19479a6",
   "metadata": {
    "tags": []
   },
   "source": [
    "## Выводы:\n",
    "- Распределение значений p-values равномерное;\n",
    "- В ~5% случаях p-values оказался меньше либо равен 0.05.\n",
    "\n",
    "На основании этого мы можем заключить, что наш АА-тест сошелся и что наша система сплитования работает корректно."
   ]
  }
 ],
 "metadata": {
  "kernelspec": {
   "display_name": "Python 3 (ipykernel)",
   "language": "python",
   "name": "python3"
  },
  "language_info": {
   "codemirror_mode": {
    "name": "ipython",
    "version": 3
   },
   "file_extension": ".py",
   "mimetype": "text/x-python",
   "name": "python",
   "nbconvert_exporter": "python",
   "pygments_lexer": "ipython3",
   "version": "3.9.7"
  }
 },
 "nbformat": 4,
 "nbformat_minor": 5
}
