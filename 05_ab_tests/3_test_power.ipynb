{
 "cells": [
  {
   "cell_type": "markdown",
   "id": "7bbbef44-f50b-416a-a346-369ed242ac27",
   "metadata": {
    "tags": []
   },
   "source": [
    "# Оценка необходимого размера выборки, эффекта \n",
    "К сожалению, наши коллеги из отдела машинного обучения провели АB-тест, но забыли посоветоваться с нами заранее. В результате время проведения АB-теста было выбрано по наитию, одна неделя. </br>\n",
    "Не самое плохое решение, неделя, как минимум, полностью покрывает недельную сезонность в данных. Но хотелось бы для дальнейших экспериментов оценить, какой размер выборки нам нужен заранее. "
   ]
  },
  {
   "cell_type": "code",
   "execution_count": 1,
   "id": "68942d2f-a1ca-4e0c-b544-e1862f6e41f7",
   "metadata": {},
   "outputs": [],
   "source": [
    "# импортируем библиотеки\n",
    "import pandas as pd\n",
    "import pandahouse\n",
    "import matplotlib.pyplot as plt\n",
    "import seaborn as sns\n",
    "import numpy as np\n",
    "from statsmodels.stats.power import TTestIndPower\n",
    "from random import randint\n",
    "from db.read_db import get_df\n",
    "import math\n",
    "import statistics\n",
    "\n",
    "# достаем данные из БД для дальнейшего анализа\n",
    "## открываем файл с запросом\n",
    "with open('./db/ab_test.sql') as f:\n",
    "    query = f.read()\n",
    "## читаем данные из БД при помощи функции get_df()\n",
    "df = get_df(query)\n",
    "\n",
    "# сформируем данные для дальнейшего анализа\n",
    "group_a = df.loc[df['exp_group']==0, 'ctr'].values\n",
    "group_b = df.loc[df['exp_group']==1, 'ctr'].values"
   ]
  },
  {
   "cell_type": "markdown",
   "id": "a8d07942-e7d9-44e8-8337-2ff008681eb2",
   "metadata": {},
   "source": [
    "1. При помощи библиотеки метода TTestIndPower оценить, какой размер выборки нам потребуется в дальнейшем если мы:\n",
    "     - Хотим использовать t-test для сравнения CTR по юзерам\n",
    "     - Ожидаем, что размер эффекта равен 0.3\n",
    "     - Хотим, чтобы мощность нашего теста равнялась 0.8."
   ]
  },
  {
   "cell_type": "code",
   "execution_count": 2,
   "id": "d85a8b34-b25b-4ccc-82e2-6bfaae21ee1c",
   "metadata": {},
   "outputs": [
    {
     "name": "stdout",
     "output_type": "stream",
     "text": [
      "1. Оценка размера выборки\n",
      "--- --- --- --- --- ---\n",
      "Если мы хотим использовать t-test для сравнения CTR по юзерам, \n",
      "если мы ожидаем размер эффекта, равный 0.3\n",
      "и хотим иметь мощность теста, равную 0.8,\n",
      "минимальный размер выборки должен составлять 176\n",
      "в каждой из групп\n",
      "=== === === === === === === === === === === ===\n"
     ]
    }
   ],
   "source": [
    "# Оценка размера выборки\n",
    "analysis = TTestIndPower()\n",
    "\n",
    "effect = 0.3\n",
    "alpha = 0.05\n",
    "power = 0.8\n",
    "# Результат – наблюдения на одну выборку (соотвественно, умножаем на 2)\n",
    "size = analysis.solve_power(effect_size=effect, power=power, alpha=alpha, ratio=1, nobs1=None)\n",
    "size_rounded = math.ceil(size)\n",
    "\n",
    "message = 'Если мы хотим использовать t-test для сравнения CTR по юзерам, '\n",
    "message = message + '\\nесли мы ожидаем размер эффекта, равный {}'.format(effect)\n",
    "message = message + '\\nи хотим иметь мощность теста, равную {},'.format(power)\n",
    "message = message + '\\nминимальный размер выборки должен составлять {}'.format(size_rounded)\n",
    "message = message + '\\nв каждой из групп'\n",
    "print('1. Оценка размера выборки')\n",
    "print('--- --- --- --- --- ---')\n",
    "print(message)\n",
    "print('=== === === === === === === === === === === ===')"
   ]
  },
  {
   "cell_type": "markdown",
   "id": "a29c11af-7d86-43a5-875d-17fa5fd613f1",
   "metadata": {},
   "source": [
    "2. Рассчитайте, чему оказался равен размер эффекта в нашем проведенном АB-тесте, и сделайте вывод, могли бы использовать меньший размер выборки при сохранении мощности на уровне 0.8.\n",
    "\n",
    "Для расчета эффекта используем подход, изложенный в [Когда останавливать A/B-тест? Часть 1: MDE](https://medium.com/statistics-experiments/%D0%BA%D0%BE%D0%B3%D0%B4%D0%B0-%D0%BE%D1%81%D1%82%D0%B0%D0%BD%D0%B0%D0%B2%D0%BB%D0%B8%D0%B2%D0%B0%D1%82%D1%8C-a-b-%D1%82%D0%B5%D1%81%D1%82-%D1%87%D0%B0%D1%81%D1%82%D1%8C-1-mde-7d39b668b488) c применением pooled SD:</br>\n",
    "- SDpooled = √((n1-1).SD12 + (n2-1).SD22)/(n1+n2-2) where,</br>\n",
    "    - SD1 = Standard Deviation for group 1</br>\n",
    "    - SD2 = Standard Deviation for group 2</br>\n",
    "    - n1 =  Sample Size for group 1</br>\n",
    "    - n2 =  Sample Size for group 2</br>"
   ]
  },
  {
   "cell_type": "code",
   "execution_count": 3,
   "id": "784bda56-705e-489d-8b0b-d1d32b83535c",
   "metadata": {},
   "outputs": [
    {
     "name": "stdout",
     "output_type": "stream",
     "text": [
      "2.1. Размер эффекта в нашем проведенном АB-тесте:\n",
      "--- --- --- --- --- ---\n",
      "Размер эффекта равен 0.16\n",
      "\n",
      "2.2. Размер выборки при сохранении мощности на уровне 0.8:\n",
      "--- --- --- --- --- ---\n",
      "Если мы хотим использовать t-test для сравнения CTR по юзерам, \n",
      "если мы ожидаем размер эффекта, равный 0.16\n",
      "и хотим иметь мощность теста, равную 0.8,\n",
      "минимальный размер выборки в 1й группе должен составлять 590\n",
      "и во 2й группе 591\n",
      "У нас сейчас выборки составили 12997 и 13002 наблюдений.\n"
     ]
    }
   ],
   "source": [
    "def get_sd_pooled(sample1, sample2):\n",
    "    '''\n",
    "    Расчет pooled standard deviation\n",
    "    ---\n",
    "    Параметры:\n",
    "        sample1  -- 1я группа АВ теста\n",
    "        sample2  -- 2я группа АВ теста\n",
    "    '''\n",
    "    SD1 = statistics.stdev(sample1)\n",
    "    SD2 = statistics.stdev(sample2)   \n",
    "    n1 = len(sample1)\n",
    "    n2 = len(sample2)\n",
    "    \n",
    "    sd_pooled = math.sqrt(\n",
    "                      (\n",
    "                          (n1 - 1) * SD1 * SD1 + \n",
    "                          (n2-1) * SD2 * SD2\n",
    "                      ) / (n1 + n2 - 2))\n",
    "    \n",
    "    return sd_pooled\n",
    "\n",
    "def get_effect_size(sample1, sample2):\n",
    "    '''\n",
    "    Расчет размер эффекта (Effect Size) в нашем проведенном АB-тесте.\n",
    "    Порядок контроля или теста не важен.\n",
    "    ---\n",
    "    Параметры:\n",
    "        sample1  -- 1я группа АВ теста\n",
    "        sample2  -- 2я группа АВ теста\n",
    "    '''\n",
    "    sd_pooled = get_sd_pooled(sample1, sample2)\n",
    "    mean1 = sample1.mean()\n",
    "    mean2 = sample2.mean()\n",
    "    max_mean = max(mean1, mean2)\n",
    "    min_mean = min(mean1, mean2)\n",
    "    mde = (max_mean - min_mean) / sd_pooled\n",
    "    return mde\n",
    "\n",
    "# расчитываем эффект от АВ теста\n",
    "ab_effect = get_effect_size(group_a, group_b)\n",
    "\n",
    "# подсчет ratio\n",
    "ab_ratio = len(group_b) / len(group_a)\n",
    "\n",
    "# расчет размера выборки после уточнения эффекта\n",
    "size_upd = analysis.solve_power(\n",
    "    effect_size=ab_effect, \n",
    "    power=power, \n",
    "    alpha=alpha, \n",
    "    ratio=ab_ratio, \n",
    "    nobs1=None)\n",
    "size_upd_rounded_1 = math.ceil(size_upd)\n",
    "size_upd_rounded_2 = math.ceil(size_upd_rounded_1 * ab_ratio)\n",
    "\n",
    "print('2.1. Размер эффекта в нашем проведенном АB-тесте:')\n",
    "print('--- --- --- --- --- ---')\n",
    "message = 'Размер эффекта равен {:.2f}'.format(get_effect_size(group_a, group_b))\n",
    "print(message)\n",
    "\n",
    "print('\\n2.2. Размер выборки при сохранении мощности на уровне 0.8:')\n",
    "print('--- --- --- --- --- ---')\n",
    "message = 'Если мы хотим использовать t-test для сравнения CTR по юзерам, '\n",
    "message = message + '\\nесли мы ожидаем размер эффекта, равный {:.2f}'.format(ab_effect)\n",
    "message = message + '\\nи хотим иметь мощность теста, равную {},'.format(power)\n",
    "message = message + '\\nминимальный размер выборки в 1й группе должен составлять {}'.format(size_upd_rounded_1)\n",
    "message = message + '\\nи во 2й группе {}'.format(size_upd_rounded_2)\n",
    "print(message)\n",
    "message = 'У нас сейчас выборки составили {} и {} наблюдений.'.format(len(group_a), \n",
    "                                                                     len(group_b))\n",
    "print(message)"
   ]
  },
  {
   "cell_type": "markdown",
   "id": "455a86a5-d0ce-43b9-a539-302d8a3edb2e",
   "metadata": {},
   "source": [
    "Мы могли бы использовать меньший размер выборки для АВ теста."
   ]
  }
 ],
 "metadata": {
  "kernelspec": {
   "display_name": "Python 3 (ipykernel)",
   "language": "python",
   "name": "python3"
  },
  "language_info": {
   "codemirror_mode": {
    "name": "ipython",
    "version": 3
   },
   "file_extension": ".py",
   "mimetype": "text/x-python",
   "name": "python",
   "nbconvert_exporter": "python",
   "pygments_lexer": "ipython3",
   "version": "3.9.7"
  }
 },
 "nbformat": 4,
 "nbformat_minor": 5
}
