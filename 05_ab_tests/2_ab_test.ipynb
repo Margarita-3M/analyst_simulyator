{
 "cells": [
  {
   "cell_type": "markdown",
   "id": "a7b089c7-d943-4a82-8d3a-74ca070cccef",
   "metadata": {},
   "source": [
    "# АB-тест\n",
    "Задача: проанализировать результаты эксперимента (АB-теста), который провели вместе с командой дата сайентистов. \n",
    "\n",
    "Описание эксперимента:\n",
    "- Эксперимент проходил  с **2021-12-29 по 2022-01-04 включительно**. Для эксперимента были задействованы 0 и 1 группы.  \n",
    "- В 1 группе был использован новый алгоритм рекомендации постов, 0 группа использовалась в качестве контроля. \n",
    "- Основная гипотеза заключается в том, что новый алгоритм в 1 группе приведет к увеличению CTR."
   ]
  },
  {
   "cell_type": "markdown",
   "id": "4315df43-8117-46eb-81b0-662da574a473",
   "metadata": {},
   "source": [
    "### 0. Подготовка данных для дальнейшего анализа"
   ]
  },
  {
   "cell_type": "code",
   "execution_count": 1,
   "id": "33d1d77a-367e-42cf-a049-5f41a010f766",
   "metadata": {},
   "outputs": [],
   "source": [
    "# импортируем библиотеки\n",
    "import pandas as pd\n",
    "import pandahouse\n",
    "import matplotlib.pyplot as plt\n",
    "import seaborn as sns\n",
    "import numpy as np\n",
    "from scipy import stats\n",
    "from random import randint\n",
    "from db.read_db import get_df\n",
    "sns.set() # Setting seaborn as default style even if use only matplotlib\n",
    "sns.set_style(\"darkgrid\", {\"axes.facecolor\": \"lavender\", 'axes.grid': False})\n",
    "\n",
    "# достаем данные из БД для дальнейшего анализа\n",
    "## открываем файл с запросом\n",
    "with open('./db/ab_test.sql') as f:\n",
    "    query = f.read()\n",
    "## читаем данные из БД при помощи функции get_df()\n",
    "df = get_df(query)\n",
    "\n",
    "# сохраняем данные в csv (для личного репозитория с портфолио)\n",
    "df.to_csv('~/ab_tests/data/ab_test_data.csv')\n",
    "\n",
    "# сформируем данные для дальнейшего анализа\n",
    "group_a = df.loc[df['exp_group']==0, 'ctr'].values\n",
    "group_b = df.loc[df['exp_group']==1, 'ctr'].values"
   ]
  },
  {
   "cell_type": "markdown",
   "id": "7f946fe0-f15a-42a6-91f4-c539ba17334f",
   "metadata": {},
   "source": [
    "### 1. Выбор метода анализа и сравнение CTR в двух группах\n",
    "\n",
    "Посмотрим на распределение CTR в 2-х группах:"
   ]
  },
  {
   "cell_type": "code",
   "execution_count": 2,
   "id": "2b4d2e84-0818-42a3-a77f-db309b02e7e7",
   "metadata": {},
   "outputs": [
    {
     "data": {
      "text/html": [
       "<div>\n",
       "<style scoped>\n",
       "    .dataframe tbody tr th:only-of-type {\n",
       "        vertical-align: middle;\n",
       "    }\n",
       "\n",
       "    .dataframe tbody tr th {\n",
       "        vertical-align: top;\n",
       "    }\n",
       "\n",
       "    .dataframe thead th {\n",
       "        text-align: right;\n",
       "    }\n",
       "</style>\n",
       "<table border=\"1\" class=\"dataframe\">\n",
       "  <thead>\n",
       "    <tr style=\"text-align: right;\">\n",
       "      <th></th>\n",
       "      <th>mean</th>\n",
       "      <th>median</th>\n",
       "    </tr>\n",
       "    <tr>\n",
       "      <th>exp_group</th>\n",
       "      <th></th>\n",
       "      <th></th>\n",
       "    </tr>\n",
       "  </thead>\n",
       "  <tbody>\n",
       "    <tr>\n",
       "      <th>0</th>\n",
       "      <td>0.221954</td>\n",
       "      <td>0.2083</td>\n",
       "    </tr>\n",
       "    <tr>\n",
       "      <th>1</th>\n",
       "      <td>0.236486</td>\n",
       "      <td>0.2241</td>\n",
       "    </tr>\n",
       "  </tbody>\n",
       "</table>\n",
       "</div>"
      ],
      "text/plain": [
       "               mean  median\n",
       "exp_group                  \n",
       "0          0.221954  0.2083\n",
       "1          0.236486  0.2241"
      ]
     },
     "execution_count": 2,
     "metadata": {},
     "output_type": "execute_result"
    },
    {
     "data": {
      "image/png": "[encoded data removed]",
      "text/plain": [
       "<Figure size 432x288 with 1 Axes>"
      ]
     },
     "metadata": {},
     "output_type": "display_data"
    }
   ],
   "source": [
    "sns.histplot(data=df, x='ctr', hue='exp_group');\n",
    "df.groupby('exp_group')['ctr'].agg(['mean', 'median'])"
   ]
  },
  {
   "cell_type": "markdown",
   "id": "8297ab92-9614-473e-a281-d795ac0a135d",
   "metadata": {},
   "source": [
    "Визуально распределение CTR в экспериментальной группе смещено вправо по сравнению с контрольной группой.\n",
    "Средняя и медиана тоже различаются, что необходимо проверить статистически. </br>\n",
    "\n",
    "#### Сформируем гипотезы\n",
    "H0: CTR контрольной группы и CTR эспериментальной группы не различаются </br>\n",
    "H1: CTR контрольной группы и CTR эспериментальной группы различаются </br>\n",
    "\n",
    "#### 1.1. t-test"
   ]
  },
  {
   "cell_type": "code",
   "execution_count": 3,
   "id": "470f7dc4-b78d-4eef-b2b3-92baf264ee79",
   "metadata": {
    "tags": []
   },
   "outputs": [
    {
     "name": "stdout",
     "output_type": "stream",
     "text": [
      "t-test\n"
     ]
    },
    {
     "data": {
      "text/plain": [
       "Ttest_indResult(statistic=-13.161495251257872, pvalue=1.9549052172618182e-39)"
      ]
     },
     "execution_count": 3,
     "metadata": {},
     "output_type": "execute_result"
    }
   ],
   "source": [
    "print('t-test')\n",
    "stats.ttest_ind(group_a, group_b, equal_var=False) # Welch’s t-test "
   ]
  },
  {
   "cell_type": "markdown",
   "id": "420dd8ba-816f-4864-b910-d1a9b4406f40",
   "metadata": {},
   "source": [
    "Отклоняем нулевую гипотезу, p-value ниже установленного alpha. Принимаем альтернативную гипотезу. Разница CTR статистически значима"
   ]
  },
  {
   "cell_type": "markdown",
   "id": "f585afd5-fb8a-416b-829f-0d4cc0ed8b75",
   "metadata": {},
   "source": [
    "#### 1.2. Mann-Whitney U test"
   ]
  },
  {
   "cell_type": "code",
   "execution_count": 4,
   "id": "1b44e197-11d3-41dd-bec5-2c15011f47fe",
   "metadata": {
    "tags": []
   },
   "outputs": [
    {
     "name": "stdout",
     "output_type": "stream",
     "text": [
      "Mann-Whitney U test\n"
     ]
    },
    {
     "data": {
      "text/plain": [
       "MannwhitneyuResult(statistic=75455846.5, pvalue=1.9103112530392059e-50)"
      ]
     },
     "execution_count": 4,
     "metadata": {},
     "output_type": "execute_result"
    }
   ],
   "source": [
    "print('Mann-Whitney U test')\n",
    "stats.mannwhitneyu(group_a, group_b)"
   ]
  },
  {
   "cell_type": "markdown",
   "id": "c3317454-893e-4973-adb6-6d7cab45f4c6",
   "metadata": {},
   "source": [
    "Отклоняем нулевую гипотезу, p-value ниже установленного alpha. Принимаем альтернативную гипотезу.\n",
    "Разница CTR статистически значима"
   ]
  },
  {
   "cell_type": "markdown",
   "id": "e87c6517-7082-4f90-b1a2-28899ef1dd91",
   "metadata": {},
   "source": [
    "#### 1.3. Bootstrap"
   ]
  },
  {
   "cell_type": "code",
   "execution_count": 5,
   "id": "ed4b8fa4-4516-4190-b043-129f4efd7b3d",
   "metadata": {},
   "outputs": [
    {
     "name": "stdout",
     "output_type": "stream",
     "text": [
      "0.95 доверительный интервал CTR для контрольной группы составляет [0.211; 0.215]\n",
      "0.95 доверительный интервал CTR для экспериментальной группы составляет [0.228; 0.232]\n"
     ]
    }
   ],
   "source": [
    "def get_bootstrap_ci_ctr(df, num_experiments=1000, alpha=0.05):\n",
    "    '''\n",
    "    Функция считает доверительный интервал CTR (двусторонний) при помощи бутстрэпа.\n",
    "    ---\n",
    "    Параметры:\n",
    "        df               -- датафрейм\n",
    "        num_experiments  -- количество экспериментов в симуляции\n",
    "        alpha            -- уровень значимости  \n",
    "    \n",
    "    '''\n",
    "    # формируем выборку CTR\n",
    "    global_ctr_data = []\n",
    "    for i in range(num_experiments):\n",
    "        sample = df.sample(frac=0.5, replace=True)\n",
    "        global_ctr = sample['likes'].sum() / sample['views'].sum()\n",
    "        global_ctr_data.append(global_ctr)\n",
    "    \n",
    "    # рассчитываем границы доварительного интервала\n",
    "    ci = np.percentile(global_ctr_data, [100 * alpha / 2.0, 100 * (1 - alpha / 2.0)])\n",
    "    \n",
    "    return ci\n",
    "\n",
    "# устанавливаем уровень значимости\n",
    "alpha=0.05\n",
    "\n",
    "# рассчитываем доверительный интервал для контрольной группы\n",
    "a_low, a_high = get_bootstrap_ci_ctr(\n",
    "    df[df['exp_group']==0], num_experiments=1000, alpha=alpha)\n",
    "message_a = f'{(1-alpha):.2f} доверительный интервал CTR для контрольной группы составляет [{a_low:.3f}; {a_high:.3f}]'\n",
    "\n",
    "# рассчитываем доверительный интервал для экспериментальной группы\n",
    "b_low, b_high = get_bootstrap_ci_ctr(\n",
    "    df[df['exp_group']==1], num_experiments=1000, alpha=alpha)\n",
    "message_b = f'{(1-alpha):.2f} доверительный интервал CTR для экспериментальной группы составляет [{b_low:.3f}; {b_high:.3f}]'\n",
    "\n",
    "print(message_a)\n",
    "print(message_b)"
   ]
  },
  {
   "cell_type": "markdown",
   "id": "6f193466-16b0-4fde-8294-f00955c79503",
   "metadata": {},
   "source": [
    "Доверительный интервал CTR контрольной группы и доверительный интервал CTR для экспериментальной группы не пересекаются. Отклоняем нулевую гипотезу и принимаем альтернативную гипотезу. Разница CTR статистически значима"
   ]
  },
  {
   "cell_type": "markdown",
   "id": "c2e6645a-ec20-41cb-8f39-9d900fdf624d",
   "metadata": {},
   "source": [
    "### 2. Контрольная проверка просмотров\n",
    "Проведем контрольную проверку, что новый алгоритм не привел к тому, что сократилось число просмотров у пользователей. Типичная ситуация в АB-тестах — вырастили число лайков, но уменьшили число просмотров.\n",
    "\n",
    "Посмотрим на распределение просмотров в 2-х группах:"
   ]
  },
  {
   "cell_type": "code",
   "execution_count": 6,
   "id": "7165d286-89fd-44b6-b6ec-bec0e18a101c",
   "metadata": {},
   "outputs": [
    {
     "data": {
      "text/html": [
       "<div>\n",
       "<style scoped>\n",
       "    .dataframe tbody tr th:only-of-type {\n",
       "        vertical-align: middle;\n",
       "    }\n",
       "\n",
       "    .dataframe tbody tr th {\n",
       "        vertical-align: top;\n",
       "    }\n",
       "\n",
       "    .dataframe thead th {\n",
       "        text-align: right;\n",
       "    }\n",
       "</style>\n",
       "<table border=\"1\" class=\"dataframe\">\n",
       "  <thead>\n",
       "    <tr style=\"text-align: right;\">\n",
       "      <th></th>\n",
       "      <th>min</th>\n",
       "      <th>median</th>\n",
       "      <th>max</th>\n",
       "    </tr>\n",
       "    <tr>\n",
       "      <th>exp_group</th>\n",
       "      <th></th>\n",
       "      <th></th>\n",
       "      <th></th>\n",
       "    </tr>\n",
       "  </thead>\n",
       "  <tbody>\n",
       "    <tr>\n",
       "      <th>0</th>\n",
       "      <td>1</td>\n",
       "      <td>51.0</td>\n",
       "      <td>366</td>\n",
       "    </tr>\n",
       "    <tr>\n",
       "      <th>1</th>\n",
       "      <td>1</td>\n",
       "      <td>51.0</td>\n",
       "      <td>362</td>\n",
       "    </tr>\n",
       "  </tbody>\n",
       "</table>\n",
       "</div>"
      ],
      "text/plain": [
       "           min  median  max\n",
       "exp_group                  \n",
       "0            1    51.0  366\n",
       "1            1    51.0  362"
      ]
     },
     "execution_count": 6,
     "metadata": {},
     "output_type": "execute_result"
    },
    {
     "data": {
      "image/png": "[encoded data removed]",
      "text/plain": [
       "<Figure size 432x288 with 1 Axes>"
      ]
     },
     "metadata": {},
     "output_type": "display_data"
    }
   ],
   "source": [
    "sns.histplot(data=df, x='views', hue='exp_group');\n",
    "df.groupby('exp_group')['views'].agg(['min', 'median', 'max'])"
   ]
  },
  {
   "cell_type": "markdown",
   "id": "f2a6cfa9-fb5b-4c41-85b3-cc8544d14a84",
   "metadata": {},
   "source": [
    "Визуально распределение просмотров в экспериментальной группе похоже на распределение просмотров в контрольной группе. </br>\n",
    "\n",
    "#### Сформируем гипотезы\n",
    "H0: Просмотры контрольной группы и просмотры эспериментальной группы не различаются </br>\n",
    "H1: Просмотры контрольной группы и просмотры эспериментальной группы различаются </br>\n",
    "\n",
    "#### 2.1. t-test"
   ]
  },
  {
   "cell_type": "code",
   "execution_count": 7,
   "id": "7ea93c09-c669-4b42-a719-3bcbc3b398d8",
   "metadata": {},
   "outputs": [
    {
     "name": "stdout",
     "output_type": "stream",
     "text": [
      "t-test\n"
     ]
    },
    {
     "data": {
      "text/plain": [
       "Ttest_indResult(statistic=0.21340400193402262, pvalue=0.8310135327751322)"
      ]
     },
     "execution_count": 7,
     "metadata": {},
     "output_type": "execute_result"
    }
   ],
   "source": [
    "print('t-test')\n",
    "stats.ttest_ind(\n",
    "    np.log(df.loc[df['exp_group']==0, 'views'].values), \n",
    "    np.log(df.loc[df['exp_group']==1, 'views'].values), \n",
    "    equal_var=False) # Welch’s t-test "
   ]
  },
  {
   "cell_type": "markdown",
   "id": "5bdae4cb-12a2-4f3b-b314-2395e6f148fc",
   "metadata": {},
   "source": [
    "Принимаем нулевую гипотезу, p-value выше установленного alpha. Разница в просмотрах статистически незначима."
   ]
  },
  {
   "cell_type": "markdown",
   "id": "69ed7fa5-c366-407e-851e-0c2d573804b7",
   "metadata": {},
   "source": [
    "####  2.2. Bootstrap"
   ]
  },
  {
   "cell_type": "code",
   "execution_count": 8,
   "id": "702eb380-8087-4062-9361-38c060ee5d77",
   "metadata": {},
   "outputs": [
    {
     "name": "stdout",
     "output_type": "stream",
     "text": [
      "0.95 доверительный интервал просмотров для контрольной группы составляет [60.255; 62.224]\n",
      "0.95 доверительный интервал просмотров для экспериментальной группы составляет [60.207; 62.211]\n"
     ]
    }
   ],
   "source": [
    "def get_bootstrap_ci_views(df, num_experiments=1000, alpha=0.05):\n",
    "    '''\n",
    "    Функция считает доверительный интервал CTR (двусторонний) при помощи бутстрэпа.\n",
    "    ---\n",
    "    Параметры:\n",
    "        df               -- датафрейм\n",
    "        num_experiments  -- количество экспериментов в симуляции\n",
    "        alpha            -- уровень значимости  \n",
    "    \n",
    "    '''\n",
    "    # формируем выборку CTR\n",
    "    global_views_data = []\n",
    "    for i in range(num_experiments):\n",
    "        sample = df.sample(frac=0.5, replace=True)\n",
    "        global_views = sample['views'].mean()\n",
    "        global_views_data.append(global_views)\n",
    "    \n",
    "    # рассчитываем границы доварительного интервала\n",
    "    ci = np.percentile(global_views_data, [100 * alpha / 2.0, 100 * (1 - alpha / 2.0)])\n",
    "    \n",
    "    return ci\n",
    "\n",
    "# устанавливаем уровень значимости\n",
    "alpha=0.05\n",
    "\n",
    "# рассчитываем доверительный интервал для контрольной группы\n",
    "a_low, a_high = get_bootstrap_ci_views(\n",
    "    df[df['exp_group']==0], num_experiments=1000, alpha=alpha)\n",
    "message_a = f'{(1-alpha):.2f} доверительный интервал просмотров для контрольной группы составляет [{a_low:.3f}; {a_high:.3f}]'\n",
    "\n",
    "# рассчитываем доверительный интервал для экспериментальной группы\n",
    "b_low, b_high = get_bootstrap_ci_views(\n",
    "    df[df['exp_group']==1], num_experiments=1000, alpha=alpha)\n",
    "message_b = f'{(1-alpha):.2f} доверительный интервал просмотров для экспериментальной группы составляет [{b_low:.3f}; {b_high:.3f}]'\n",
    "\n",
    "print(message_a)\n",
    "print(message_b)"
   ]
  },
  {
   "cell_type": "markdown",
   "id": "0a14c960-6d48-490a-9f73-5589b82ebedc",
   "metadata": {},
   "source": [
    "Доверительный интервал просмотров контрольной группы и доверительный интервал просмотров для экспериментальной группы пересекаются. Принимаем нулевую гипотезу. Разница в просмотрах статистически незначима."
   ]
  },
  {
   "cell_type": "markdown",
   "id": "1383afd6-415e-47aa-b134-cef600955534",
   "metadata": {},
   "source": [
    "### 3. Рекомендации\n",
    "\n",
    "Рекомендация основана на статистически значимых результатах AB-теста, проведенного с 2021-12-29 по 2022-01-04 включительно. \n",
    "- Гипотеза, что новый алгоритм в 1й группе приведет к увеличению CTR, подтвердилась\n",
    "- Изменение алгоритма не привело к статистически значимому изменению в просмотрах\n",
    "- Медианное значение CTR увеличилось с 0.2083 до 0.2241, что является материальным изменением\n",
    "\n",
    "**Рекомендация:** раскатать новый алгоритм на всех новых пользователей."
   ]
  }
 ],
 "metadata": {
  "kernelspec": {
   "display_name": "Python 3 (ipykernel)",
   "language": "python",
   "name": "python3"
  },
  "language_info": {
   "codemirror_mode": {
    "name": "ipython",
    "version": 3
   },
   "file_extension": ".py",
   "mimetype": "text/x-python",
   "name": "python",
   "nbconvert_exporter": "python",
   "pygments_lexer": "ipython3",
   "version": "3.9.7"
  }
 },
 "nbformat": 4,
 "nbformat_minor": 5
}
